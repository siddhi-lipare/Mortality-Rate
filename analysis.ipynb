{
 "cells": [
  {
   "cell_type": "code",
   "execution_count": 21,
   "metadata": {},
   "outputs": [],
   "source": [
    "import numpy as np\n",
    "import pandas as pd"
   ]
  },
  {
   "cell_type": "code",
   "execution_count": 22,
   "metadata": {},
   "outputs": [],
   "source": [
    "# Load data\n",
    "X = pd.read_csv(\"data/training_data.csv\")\n",
    "Y = pd.read_csv(\"data/training_data_targets.csv\", header=None)"
   ]
  },
  {
   "cell_type": "code",
   "execution_count": 23,
   "metadata": {},
   "outputs": [
    {
     "name": "stdout",
     "output_type": "stream",
     "text": [
      "BMI                         190\n",
      "heart rate                   12\n",
      "Systolic blood pressure      14\n",
      "Diastolic blood pressure     14\n",
      "Respiratory rate             12\n",
      "temperature                  18\n",
      "SP O2                        12\n",
      "Urine output                 34\n",
      "Neutrophils                 122\n",
      "Basophils                   216\n",
      "Lymphocyte                  122\n",
      "PT                           18\n",
      "INR                          18\n",
      "Creatine kinase             148\n",
      "glucose                      15\n",
      "Blood calcium                 1\n",
      "PH                          272\n",
      "Lactic acid                 211\n",
      "PCO2                        274\n",
      "dtype: int64\n",
      "\n",
      "Total Missing Values:  1723\n"
     ]
    }
   ],
   "source": [
    "# Check for missing values\n",
    "missing_values = X.isnull().sum()\n",
    "\n",
    "missing_values_count = missing_values[missing_values > 0]\n",
    "total_missing_values = missing_values_count.sum()\n",
    "\n",
    "print(missing_values_count)\n",
    "print(\"\\nTotal Missing Values: \", total_missing_values)"
   ]
  },
  {
   "cell_type": "code",
   "execution_count": null,
   "metadata": {},
   "outputs": [],
   "source": []
  }
 ],
 "metadata": {
  "kernelspec": {
   "display_name": "Python 3",
   "language": "python",
   "name": "python3"
  },
  "language_info": {
   "codemirror_mode": {
    "name": "ipython",
    "version": 3
   },
   "file_extension": ".py",
   "mimetype": "text/x-python",
   "name": "python",
   "nbconvert_exporter": "python",
   "pygments_lexer": "ipython3",
   "version": "3.9.18"
  }
 },
 "nbformat": 4,
 "nbformat_minor": 2
}
